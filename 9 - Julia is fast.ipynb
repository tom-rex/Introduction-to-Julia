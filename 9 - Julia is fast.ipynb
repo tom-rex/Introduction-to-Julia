{
 "cells": [
  {
   "cell_type": "markdown",
   "metadata": {},
   "source": [
    "# Julia is fast\n",
    "\n",
    "Very often, benchmarks are used to compare languages.  These benchmarks can lead to long discussions, first as to exactly what is being benchmarked and secondly what explains the differences.  These simple questions can sometimes get more complicated than you at first might imagine.\n",
    "\n",
    "The purpose of this notebook is for you to see a simple benchmark for yourself.  One can read the notebook and see what happened on the author's Macbook Pro with a 4-core Intel Core I7, or run the notebook yourself.\n",
    "\n",
    "(This material began life as a wonderful lecture by Steven Johnson at MIT: https://github.com/stevengj/18S096/blob/master/lectures/lecture1/Boxes-and-registers.ipynb.)"
   ]
  },
  {
   "cell_type": "markdown",
   "metadata": {},
   "source": [
    "# Outline of this notebook\n",
    "\n",
    "- Define the sum function\n",
    "- Implementations & benchmarking of sum in...\n",
    "    - C (hand-written)\n",
    "    - C (hand-written with -ffast-math)\n",
    "    - python (built-in)\n",
    "    - python (numpy)\n",
    "    - python (hand-written)\n",
    "    - Julia (built-in)\n",
    "    - Julia (hand-written)\n",
    "    - Julia (hand-written with SIMD)\n",
    "- Summary of benchmarks"
   ]
  },
  {
   "cell_type": "markdown",
   "metadata": {},
   "source": [
    "# `sum`: An easy enough function to understand"
   ]
  },
  {
   "cell_type": "markdown",
   "metadata": {},
   "source": [
    "Consider the  **sum** function `sum(a)`, which computes\n",
    "$$\n",
    "\\mathrm{sum}(a) = \\sum_{i=1}^n a_i,\n",
    "$$\n",
    "where $n$ is the length of `a`."
   ]
  },
  {
   "cell_type": "code",
   "execution_count": 1,
   "metadata": {},
   "outputs": [
    {
     "data": {
      "text/plain": [
       "10000000-element Vector{Float64}:\n",
       " 0.48218786158320404\n",
       " 0.9650715209782048\n",
       " 0.39369361808888037\n",
       " 0.7085975306850376\n",
       " 0.28155863280552784\n",
       " 0.7584745340377707\n",
       " 0.41112486980573804\n",
       " 0.6468988084740505\n",
       " 0.3280938515373343\n",
       " 0.10657434269088573\n",
       " ⋮\n",
       " 0.9838021508800607\n",
       " 0.3929225437608479\n",
       " 0.4753878538563975\n",
       " 0.5564961049475811\n",
       " 0.15292852460476758\n",
       " 0.1450381915483867\n",
       " 0.0635522544890813\n",
       " 0.032713259659018834\n",
       " 0.7022211354155339"
      ]
     },
     "metadata": {},
     "output_type": "display_data"
    }
   ],
   "source": [
    "a = rand(10^7) # 1D vector of random numbers, uniform on [0,1)"
   ]
  },
  {
   "cell_type": "code",
   "execution_count": 2,
   "metadata": {},
   "outputs": [
    {
     "data": {
      "text/plain": [
       "5.001462617496209e6"
      ]
     },
     "metadata": {},
     "output_type": "display_data"
    }
   ],
   "source": [
    "sum(a)"
   ]
  },
  {
   "cell_type": "markdown",
   "metadata": {},
   "source": [
    "The expected result is 0.5 * 10^7, since the mean of each entry is 0.5"
   ]
  },
  {
   "cell_type": "markdown",
   "metadata": {},
   "source": [
    "# Benchmarking a few ways in a few languages"
   ]
  },
  {
   "cell_type": "code",
   "execution_count": 3,
   "metadata": {},
   "outputs": [
    {
     "name": "stdout",
     "output_type": "stream",
     "text": [
      "  0.006322 seconds (1 allocation: 16 bytes)\n"
     ]
    },
    {
     "data": {
      "text/plain": [
       "5.001462617496209e6"
      ]
     },
     "metadata": {},
     "output_type": "display_data"
    }
   ],
   "source": [
    "@time sum(a)"
   ]
  },
  {
   "cell_type": "code",
   "execution_count": 4,
   "metadata": {},
   "outputs": [
    {
     "name": "stdout",
     "output_type": "stream",
     "text": [
      "  0.007230 seconds (1 allocation: 16 bytes)\n"
     ]
    },
    {
     "data": {
      "text/plain": [
       "5.001462617496209e6"
      ]
     },
     "metadata": {},
     "output_type": "display_data"
    }
   ],
   "source": [
    "@time sum(a)"
   ]
  },
  {
   "cell_type": "code",
   "execution_count": 5,
   "metadata": {},
   "outputs": [
    {
     "name": "stdout",
     "output_type": "stream",
     "text": [
      "  0.008017 seconds (1 allocation: 16 bytes)\n"
     ]
    },
    {
     "data": {
      "text/plain": [
       "5.001462617496209e6"
      ]
     },
     "metadata": {},
     "output_type": "display_data"
    }
   ],
   "source": [
    "@time sum(a)"
   ]
  },
  {
   "cell_type": "markdown",
   "metadata": {},
   "source": [
    "The `@time` macro can yield noisy results, so it's not our best choice for benchmarking!\n",
    "\n",
    "Luckily, Julia has a `BenchmarkTools.jl` package to make benchmarking easy and accurate:"
   ]
  },
  {
   "cell_type": "code",
   "execution_count": 6,
   "metadata": {},
   "outputs": [
    {
     "name": "stderr",
     "output_type": "stream",
     "text": [
      "\u001b[32m\u001b[1m   Resolving\u001b[22m\u001b[39m package versions...\n",
      "\u001b[32m\u001b[1m   Installed\u001b[22m\u001b[39m BenchmarkTools ─ v1.6.0\n",
      "\u001b[32m\u001b[1m    Updating\u001b[22m\u001b[39m `C:\\Users\\Tom Cummings\\.julia\\environments\\v1.11\\Project.toml`\n",
      "  \u001b[90m[6e4b80f9] \u001b[39m\u001b[92m+ BenchmarkTools v1.6.0\u001b[39m\n",
      "\u001b[32m\u001b[1m    Updating\u001b[22m\u001b[39m `C:\\Users\\Tom Cummings\\.julia\\environments\\v1.11\\Manifest.toml`\n",
      "  \u001b[90m[6e4b80f9] \u001b[39m\u001b[92m+ BenchmarkTools v1.6.0\u001b[39m\n",
      "  \u001b[90m[9abbd945] \u001b[39m\u001b[92m+ Profile v1.11.0\u001b[39m\n",
      "\u001b[92m\u001b[1mPrecompiling\u001b[22m\u001b[39m project...\n",
      "   2621.7 ms\u001b[32m  ✓ \u001b[39mBenchmarkTools\n",
      "  1 dependency successfully precompiled in 5 seconds. 201 already precompiled.\n"
     ]
    }
   ],
   "source": [
    "using Pkg\n",
    "Pkg.add(\"BenchmarkTools\")"
   ]
  },
  {
   "cell_type": "code",
   "execution_count": 7,
   "metadata": {},
   "outputs": [],
   "source": [
    "using BenchmarkTools  "
   ]
  },
  {
   "cell_type": "markdown",
   "metadata": {},
   "source": [
    "#  1. The C language\n",
    "\n",
    "C is often considered the gold standard: difficult on the human, nice for the machine. Getting within a factor of 2 of C is often satisfying. Nonetheless, even within C, there are many kinds of optimizations possible that a naive C writer may or may not get the advantage of.\n",
    "\n",
    "The current author does not speak C, so he does not read the cell below, but is happy to know that you can put C code in a Julia session, compile it, and run it. Note that the `\"\"\"` wrap a multi-line string."
   ]
  },
  {
   "cell_type": "code",
   "execution_count": 8,
   "metadata": {},
   "outputs": [
    {
     "ename": "Base.IOError",
     "evalue": "IOError: could not spawn `gcc -fPIC -O3 -msse3 -xc -shared -o 'C:\\Users\\TOMCUM~1\\AppData\\Local\\Temp\\jl_fMr6jW5yHG.dll' -`: no such file or directory (ENOENT)\nMany shells expand '~' to the home directory in unquoted strings. To replicate this behavior, call `expanduser` to expand the '~' character to the user’s home directory.",
     "output_type": "error",
     "traceback": [
      "IOError: could not spawn `gcc -fPIC -O3 -msse3 -xc -shared -o 'C:\\Users\\TOMCUM~1\\AppData\\Local\\Temp\\jl_fMr6jW5yHG.dll' -`: no such file or directory (ENOENT)\n",
      "Many shells expand '~' to the home directory in unquoted strings. To replicate this behavior, call `expanduser` to expand the '~' character to the user’s home directory.\n",
      "\n",
      "Stacktrace:\n",
      "  [1] _spawn_primitive(file::String, cmd::Cmd, stdio::Memory{Union{RawFD, Base.Libc.WindowsRawSocket, Base.SyncCloseFD, IO}})\n",
      "    @ Base .\\process.jl:140\n",
      "  [2] _spawn\n",
      "    @ .\\process.jl:157 [inlined]\n",
      "  [3] #883\n",
      "    @ .\\process.jl:149 [inlined]\n",
      "  [4] setup_stdios(f::Base.var\"#883#884\"{Cmd}, stdios::Vector{Union{RawFD, Base.Libc.WindowsRawSocket, Base.FileRedirect, IO}})\n",
      "    @ Base .\\process.jl:236\n",
      "  [5] _spawn\n",
      "    @ .\\process.jl:148 [inlined]\n",
      "  [6] open(cmds::Cmd, stdio::Base.DevNull; write::Bool, read::Bool)\n",
      "    @ Base .\\process.jl:411\n",
      "  [7] open\n",
      "    @ .\\process.jl:397 [inlined]\n",
      "  [8] open(cmds::Cmd, mode::String, stdio::Base.DevNull)\n",
      "    @ Base .\\process.jl:380\n",
      "  [9] open\n",
      "    @ .\\process.jl:375 [inlined]\n",
      " [10] open(f::var\"#11#12\", cmds::Cmd, args::String; kwargs::@Kwargs{})\n",
      "    @ Base .\\process.jl:429\n",
      " [11] open(f::Function, cmds::Cmd, args::String)\n",
      "    @ Base .\\process.jl:428\n",
      " [12] top-level scope\n",
      "    @ c:\\Users\\Tom Cummings\\OneDrive - University of Edinburgh\\Documents\\GitHub\\Introduction-to-Julia\\jl_notebook_cell_df34fa98e69747e1a8f8a730347b8e2f_X21sZmlsZQ==.jl:19"
     ]
    }
   ],
   "source": [
    "using Libdl\n",
    "C_code = \"\"\"\n",
    "#include <stddef.h>\n",
    "double c_sum(size_t n, double *X) {\n",
    "    double s = 0.0;\n",
    "    for (size_t i = 0; i < n; ++i) {\n",
    "        s += X[i];\n",
    "    }\n",
    "    return s;\n",
    "}\n",
    "\"\"\"\n",
    "\n",
    "const Clib = tempname()   # make a temporary file\n",
    "\n",
    "\n",
    "# compile to a shared library by piping C_code to gcc\n",
    "# (works only if you have gcc installed):\n",
    "\n",
    "open(`gcc -fPIC -O3 -msse3 -xc -shared -o $(Clib * \".\" * Libdl.dlext) -`, \"w\") do f\n",
    "    print(f, C_code) \n",
    "end\n",
    "\n",
    "# define a Julia function that calls the C function:\n",
    "c_sum(X::Array{Float64}) = ccall((\"c_sum\", Clib), Float64, (Csize_t, Ptr{Float64}), length(X), X)"
   ]
  },
  {
   "cell_type": "code",
   "execution_count": 9,
   "metadata": {},
   "outputs": [
    {
     "ename": "UndefVarError",
     "evalue": "UndefVarError: `c_sum` not defined in `Main`\nSuggestion: check for spelling errors or missing imports.",
     "output_type": "error",
     "traceback": [
      "UndefVarError: `c_sum` not defined in `Main`\n",
      "Suggestion: check for spelling errors or missing imports.\n",
      "\n",
      "Stacktrace:\n",
      " [1] top-level scope\n",
      "   @ c:\\Users\\Tom Cummings\\OneDrive - University of Edinburgh\\Documents\\GitHub\\Introduction-to-Julia\\jl_notebook_cell_df34fa98e69747e1a8f8a730347b8e2f_X22sZmlsZQ==.jl:1"
     ]
    }
   ],
   "source": [
    "c_sum(a)"
   ]
  },
  {
   "cell_type": "code",
   "execution_count": 10,
   "metadata": {},
   "outputs": [
    {
     "ename": "UndefVarError",
     "evalue": "UndefVarError: `c_sum` not defined in `Main`\nSuggestion: check for spelling errors or missing imports.",
     "output_type": "error",
     "traceback": [
      "UndefVarError: `c_sum` not defined in `Main`\n",
      "Suggestion: check for spelling errors or missing imports.\n",
      "\n",
      "Stacktrace:\n",
      " [1] top-level scope\n",
      "   @ c:\\Users\\Tom Cummings\\OneDrive - University of Edinburgh\\Documents\\GitHub\\Introduction-to-Julia\\jl_notebook_cell_df34fa98e69747e1a8f8a730347b8e2f_X23sZmlsZQ==.jl:1"
     ]
    }
   ],
   "source": [
    "c_sum(a) ≈ sum(a) # type \\approx and then <TAB> to get the ≈ symbolb"
   ]
  },
  {
   "cell_type": "code",
   "execution_count": 11,
   "metadata": {},
   "outputs": [
    {
     "ename": "UndefVarError",
     "evalue": "UndefVarError: `c_sum` not defined in `Main`\nSuggestion: check for spelling errors or missing imports.",
     "output_type": "error",
     "traceback": [
      "UndefVarError: `c_sum` not defined in `Main`\n",
      "Suggestion: check for spelling errors or missing imports.\n",
      "\n",
      "Stacktrace:\n",
      " [1] top-level scope\n",
      "   @ c:\\Users\\Tom Cummings\\OneDrive - University of Edinburgh\\Documents\\GitHub\\Introduction-to-Julia\\jl_notebook_cell_df34fa98e69747e1a8f8a730347b8e2f_X24sZmlsZQ==.jl:1"
     ]
    }
   ],
   "source": [
    "c_sum(a) - sum(a)  "
   ]
  },
  {
   "cell_type": "code",
   "execution_count": 12,
   "metadata": {
    "scrolled": true
   },
   "outputs": [
    {
     "data": {
      "text/plain": [
       "isapprox (generic function with 13 methods)"
      ]
     },
     "metadata": {},
     "output_type": "display_data"
    }
   ],
   "source": [
    "≈  # alias for the `isapprox` function"
   ]
  },
  {
   "cell_type": "code",
   "execution_count": 13,
   "metadata": {
    "scrolled": true
   },
   "outputs": [
    {
     "ename": "Base.Meta.ParseError",
     "evalue": "ParseError:\n# Error @ c:\\Users\\Tom Cummings\\OneDrive - University of Edinburgh\\Documents\\GitHub\\Introduction-to-Julia\\jl_notebook_cell_df34fa98e69747e1a8f8a730347b8e2f_X26sZmlsZQ==.jl:1:1\n?isapprox\n╙ ── not a unary operator",
     "output_type": "error",
     "traceback": [
      "ParseError:\n",
      "# Error @ c:\\Users\\Tom Cummings\\OneDrive - University of Edinburgh\\Documents\\GitHub\\Introduction-to-Julia\\jl_notebook_cell_df34fa98e69747e1a8f8a730347b8e2f_X26sZmlsZQ==.jl:1:1\n",
      "?isapprox\n",
      "╙ ── not a unary operator\n",
      "\n",
      "Stacktrace:\n",
      " [1] top-level scope\n",
      "   @ c:\\Users\\Tom Cummings\\OneDrive - University of Edinburgh\\Documents\\GitHub\\Introduction-to-Julia\\jl_notebook_cell_df34fa98e69747e1a8f8a730347b8e2f_X26sZmlsZQ==.jl:1"
     ]
    }
   ],
   "source": [
    "?isapprox"
   ]
  },
  {
   "cell_type": "markdown",
   "metadata": {},
   "source": [
    "We can now benchmark the C code directly from Julia:"
   ]
  },
  {
   "cell_type": "code",
   "execution_count": 14,
   "metadata": {},
   "outputs": [
    {
     "ename": "UndefVarError",
     "evalue": "UndefVarError: `c_sum` not defined in `Main`\nSuggestion: check for spelling errors or missing imports.",
     "output_type": "error",
     "traceback": [
      "UndefVarError: `c_sum` not defined in `Main`\n",
      "Suggestion: check for spelling errors or missing imports.\n",
      "\n",
      "Stacktrace:\n",
      "  [1] var\"##core#232\"(a#231::Vector{Float64})\n",
      "    @ Main C:\\Users\\Tom Cummings\\.julia\\packages\\BenchmarkTools\\1i1mY\\src\\execution.jl:598\n",
      "  [2] var\"##sample#233\"(::Tuple{Vector{Float64}}, __params::BenchmarkTools.Parameters)\n",
      "    @ Main C:\\Users\\Tom Cummings\\.julia\\packages\\BenchmarkTools\\1i1mY\\src\\execution.jl:607\n",
      "  [3] _lineartrial(b::BenchmarkTools.Benchmark, p::BenchmarkTools.Parameters; maxevals::Int64, kwargs::@Kwargs{})\n",
      "    @ BenchmarkTools C:\\Users\\Tom Cummings\\.julia\\packages\\BenchmarkTools\\1i1mY\\src\\execution.jl:186\n",
      "  [4] _lineartrial(b::BenchmarkTools.Benchmark, p::BenchmarkTools.Parameters)\n",
      "    @ BenchmarkTools C:\\Users\\Tom Cummings\\.julia\\packages\\BenchmarkTools\\1i1mY\\src\\execution.jl:181\n",
      "  [5] #invokelatest#2\n",
      "    @ .\\essentials.jl:1055 [inlined]\n",
      "  [6] invokelatest\n",
      "    @ .\\essentials.jl:1052 [inlined]\n",
      "  [7] #lineartrial#46\n",
      "    @ C:\\Users\\Tom Cummings\\.julia\\packages\\BenchmarkTools\\1i1mY\\src\\execution.jl:51 [inlined]\n",
      "  [8] lineartrial\n",
      "    @ C:\\Users\\Tom Cummings\\.julia\\packages\\BenchmarkTools\\1i1mY\\src\\execution.jl:50 [inlined]\n",
      "  [9] tune!(b::BenchmarkTools.Benchmark, p::BenchmarkTools.Parameters; progressid::Nothing, nleaves::Float64, ndone::Float64, verbose::Bool, pad::String, kwargs::@Kwargs{})\n",
      "    @ BenchmarkTools C:\\Users\\Tom Cummings\\.julia\\packages\\BenchmarkTools\\1i1mY\\src\\execution.jl:299\n",
      " [10] tune!\n",
      "    @ C:\\Users\\Tom Cummings\\.julia\\packages\\BenchmarkTools\\1i1mY\\src\\execution.jl:288 [inlined]\n",
      " [11] tune!(b::BenchmarkTools.Benchmark)\n",
      "    @ BenchmarkTools C:\\Users\\Tom Cummings\\.julia\\packages\\BenchmarkTools\\1i1mY\\src\\execution.jl:288\n",
      " [12] top-level scope\n",
      "    @ C:\\Users\\Tom Cummings\\.julia\\packages\\BenchmarkTools\\1i1mY\\src\\execution.jl:461"
     ]
    }
   ],
   "source": [
    "c_bench = @benchmark c_sum($a)"
   ]
  },
  {
   "cell_type": "code",
   "execution_count": 15,
   "metadata": {},
   "outputs": [
    {
     "ename": "UndefVarError",
     "evalue": "UndefVarError: `c_bench` not defined in `Main`\nSuggestion: check for spelling errors or missing imports.",
     "output_type": "error",
     "traceback": [
      "UndefVarError: `c_bench` not defined in `Main`\n",
      "Suggestion: check for spelling errors or missing imports.\n",
      "\n",
      "Stacktrace:\n",
      " [1] top-level scope\n",
      "   @ c:\\Users\\Tom Cummings\\OneDrive - University of Edinburgh\\Documents\\GitHub\\Introduction-to-Julia\\jl_notebook_cell_df34fa98e69747e1a8f8a730347b8e2f_X32sZmlsZQ==.jl:1"
     ]
    }
   ],
   "source": [
    "println(\"C: Fastest time was $(minimum(c_bench.times) / 1e6) msec\")"
   ]
  },
  {
   "cell_type": "code",
   "execution_count": 16,
   "metadata": {
    "scrolled": true
   },
   "outputs": [
    {
     "ename": "UndefVarError",
     "evalue": "UndefVarError: `c_bench` not defined in `Main`\nSuggestion: check for spelling errors or missing imports.",
     "output_type": "error",
     "traceback": [
      "UndefVarError: `c_bench` not defined in `Main`\n",
      "Suggestion: check for spelling errors or missing imports.\n",
      "\n",
      "Stacktrace:\n",
      " [1] top-level scope\n",
      "   @ c:\\Users\\Tom Cummings\\OneDrive - University of Edinburgh\\Documents\\GitHub\\Introduction-to-Julia\\jl_notebook_cell_df34fa98e69747e1a8f8a730347b8e2f_X33sZmlsZQ==.jl:2"
     ]
    }
   ],
   "source": [
    "d = Dict()  # a \"dictionary\", i.e. an associative array\n",
    "d[\"C\"] = minimum(c_bench.times) / 1e6  # in milliseconds\n",
    "d"
   ]
  },
  {
   "cell_type": "code",
   "execution_count": 17,
   "metadata": {
    "scrolled": true
   },
   "outputs": [
    {
     "data": {
      "text/plain": [
       "Plots.GRBackend()"
      ]
     },
     "metadata": {},
     "output_type": "display_data"
    }
   ],
   "source": [
    "using Plots\n",
    "gr()"
   ]
  },
  {
   "cell_type": "code",
   "execution_count": 18,
   "metadata": {},
   "outputs": [
    {
     "ename": "UndefVarError",
     "evalue": "UndefVarError: `c_bench` not defined in `Main`\nSuggestion: check for spelling errors or missing imports.",
     "output_type": "error",
     "traceback": [
      "UndefVarError: `c_bench` not defined in `Main`\n",
      "Suggestion: check for spelling errors or missing imports.\n",
      "\n",
      "Stacktrace:\n",
      " [1] top-level scope\n",
      "   @ c:\\Users\\Tom Cummings\\OneDrive - University of Edinburgh\\Documents\\GitHub\\Introduction-to-Julia\\jl_notebook_cell_df34fa98e69747e1a8f8a730347b8e2f_X35sZmlsZQ==.jl:2"
     ]
    }
   ],
   "source": [
    "using Statistics # bring in statistical support for standard deviations\n",
    "t = c_bench.times / 1e6 # times in milliseconds\n",
    "m, σ = minimum(t), std(t)\n",
    "\n",
    "histogram(t, bins=500,\n",
    "    xlim=(m - 0.01, m + σ),\n",
    "    xlabel=\"milliseconds\", ylabel=\"count\", label=\"\")"
   ]
  },
  {
   "cell_type": "markdown",
   "metadata": {},
   "source": [
    "# 2. C with -ffast-math\n",
    "\n",
    "If we allow C to re-arrange the floating point operations, then it'll vectorize with SIMD (single instruction, multiple data) instructions."
   ]
  },
  {
   "cell_type": "code",
   "execution_count": 19,
   "metadata": {},
   "outputs": [
    {
     "ename": "Base.IOError",
     "evalue": "IOError: could not spawn `gcc -fPIC -O3 -msse3 -xc -shared -ffast-math -o 'C:\\Users\\TOMCUM~1\\AppData\\Local\\Temp\\jl_NQ7O7OFkLw.dll' -`: no such file or directory (ENOENT)\nMany shells expand '~' to the home directory in unquoted strings. To replicate this behavior, call `expanduser` to expand the '~' character to the user’s home directory.",
     "output_type": "error",
     "traceback": [
      "IOError: could not spawn `gcc -fPIC -O3 -msse3 -xc -shared -ffast-math -o 'C:\\Users\\TOMCUM~1\\AppData\\Local\\Temp\\jl_NQ7O7OFkLw.dll' -`: no such file or directory (ENOENT)\n",
      "Many shells expand '~' to the home directory in unquoted strings. To replicate this behavior, call `expanduser` to expand the '~' character to the user’s home directory.\n",
      "\n",
      "Stacktrace:\n",
      "  [1] _spawn_primitive(file::String, cmd::Cmd, stdio::Memory{Union{RawFD, Base.Libc.WindowsRawSocket, Base.SyncCloseFD, IO}})\n",
      "    @ Base .\\process.jl:140\n",
      "  [2] _spawn\n",
      "    @ .\\process.jl:157 [inlined]\n",
      "  [3] #883\n",
      "    @ .\\process.jl:149 [inlined]\n",
      "  [4] setup_stdios(f::Base.var\"#883#884\"{Cmd}, stdios::Vector{Union{RawFD, Base.Libc.WindowsRawSocket, Base.FileRedirect, IO}})\n",
      "    @ Base .\\process.jl:236\n",
      "  [5] _spawn\n",
      "    @ .\\process.jl:148 [inlined]\n",
      "  [6] open(cmds::Cmd, stdio::Base.DevNull; write::Bool, read::Bool)\n",
      "    @ Base .\\process.jl:411\n",
      "  [7] open\n",
      "    @ .\\process.jl:397 [inlined]\n",
      "  [8] open(cmds::Cmd, mode::String, stdio::Base.DevNull)\n",
      "    @ Base .\\process.jl:380\n",
      "  [9] open\n",
      "    @ .\\process.jl:375 [inlined]\n",
      " [10] open(f::var\"#13#14\", cmds::Cmd, args::String; kwargs::@Kwargs{})\n",
      "    @ Base .\\process.jl:429\n",
      " [11] open(f::Function, cmds::Cmd, args::String)\n",
      "    @ Base .\\process.jl:428\n",
      " [12] top-level scope\n",
      "    @ c:\\Users\\Tom Cummings\\OneDrive - University of Edinburgh\\Documents\\GitHub\\Introduction-to-Julia\\jl_notebook_cell_df34fa98e69747e1a8f8a730347b8e2f_X40sZmlsZQ==.jl:4"
     ]
    }
   ],
   "source": [
    "const Clib_fastmath = tempname()   # make a temporary file\n",
    "\n",
    "# The same as above but with a -ffast-math flag added\n",
    "open(`gcc -fPIC -O3 -msse3 -xc -shared -ffast-math -o $(Clib_fastmath * \".\" * Libdl.dlext) -`, \"w\") do f\n",
    "    print(f, C_code) \n",
    "end\n",
    "\n",
    "# define a Julia function that calls the C function:\n",
    "c_sum_fastmath(X::Array{Float64}) = ccall((\"c_sum\", Clib_fastmath), Float64, (Csize_t, Ptr{Float64}), length(X), X)"
   ]
  },
  {
   "cell_type": "code",
   "execution_count": 20,
   "metadata": {},
   "outputs": [
    {
     "ename": "UndefVarError",
     "evalue": "UndefVarError: `c_sum_fastmath` not defined in `Main`\nSuggestion: check for spelling errors or missing imports.",
     "output_type": "error",
     "traceback": [
      "UndefVarError: `c_sum_fastmath` not defined in `Main`\n",
      "Suggestion: check for spelling errors or missing imports.\n",
      "\n",
      "Stacktrace:\n",
      " [1] top-level scope\n",
      "   @ C:\\Users\\Tom Cummings\\.julia\\packages\\BenchmarkTools\\1i1mY\\src\\execution.jl:512"
     ]
    }
   ],
   "source": [
    "c_fastmath_bench = @benchmark $c_sum_fastmath($a)"
   ]
  },
  {
   "cell_type": "code",
   "execution_count": 21,
   "metadata": {},
   "outputs": [
    {
     "ename": "UndefVarError",
     "evalue": "UndefVarError: `c_fastmath_bench` not defined in `Main`\nSuggestion: check for spelling errors or missing imports.",
     "output_type": "error",
     "traceback": [
      "UndefVarError: `c_fastmath_bench` not defined in `Main`\n",
      "Suggestion: check for spelling errors or missing imports.\n",
      "\n",
      "Stacktrace:\n",
      " [1] top-level scope\n",
      "   @ c:\\Users\\Tom Cummings\\OneDrive - University of Edinburgh\\Documents\\GitHub\\Introduction-to-Julia\\jl_notebook_cell_df34fa98e69747e1a8f8a730347b8e2f_X42sZmlsZQ==.jl:1"
     ]
    }
   ],
   "source": [
    "d[\"C -ffast-math\"] = minimum(c_fastmath_bench.times) / 1e6  # in milliseconds"
   ]
  },
  {
   "cell_type": "markdown",
   "metadata": {},
   "source": [
    "# 3. Python's built in `sum` "
   ]
  },
  {
   "cell_type": "markdown",
   "metadata": {},
   "source": [
    "The `PyCall` package provides a Julia interface to Python:"
   ]
  },
  {
   "cell_type": "code",
   "execution_count": 22,
   "metadata": {
    "scrolled": true
   },
   "outputs": [
    {
     "name": "stderr",
     "output_type": "stream",
     "text": [
      "\u001b[32m\u001b[1m   Resolving\u001b[22m\u001b[39m package versions...\n",
      "\u001b[32m\u001b[1m   Installed\u001b[22m\u001b[39m PyCall ─ v1.96.4\n",
      "\u001b[32m\u001b[1m    Updating\u001b[22m\u001b[39m `C:\\Users\\Tom Cummings\\.julia\\environments\\v1.11\\Project.toml`\n",
      "  \u001b[90m[438e738f] \u001b[39m\u001b[92m+ PyCall v1.96.4\u001b[39m\n",
      "\u001b[32m\u001b[1m    Updating\u001b[22m\u001b[39m `C:\\Users\\Tom Cummings\\.julia\\environments\\v1.11\\Manifest.toml`\n",
      "  \u001b[90m[438e738f] \u001b[39m\u001b[92m+ PyCall v1.96.4\u001b[39m\n",
      "\u001b[32m\u001b[1m    Building\u001b[22m\u001b[39m PyCall → `C:\\Users\\Tom Cummings\\.julia\\scratchspaces\\44cfe95a-1eb2-52ea-b672-e2afdf69b78f\\9816a3826b0ebf49ab4926e2b18842ad8b5c8f04\\build.log`\n"
     ]
    },
    {
     "ename": "Pkg.Types.PkgError",
     "evalue": "Error building `PyCall`: \n┌ Info: Using the Python distribution in the Conda package by default.\n└ To use a different Python version, set ENV[\"PYTHON\"]=\"pythoncommand\" and re-run Pkg.build(\"PyCall\").\nERROR: LoadError: Conda.jl cannot be installed to its default location C:\\Users\\Tom Cummings\\.julia\\conda\\3\\x86_64\nas Miniconda does not support the installation to a directory with a space or a\nnon-ASCII character on Windows. The work-around is to install Miniconda to a\nuser-writable directory by setting the CONDA_JL_HOME environment variable. For\nexample on Windows:\n\nENV[\"CONDA_JL_HOME\"] = raw\"C:\\Conda-Julia\\3\"\nusing Pkg\nPkg.build(\"Conda\")\n\nThe Julia session need to be restarted. More information is available at\nhttps://github.com/JuliaPy/Conda.jl.\n\nStacktrace:\n [1] error(s::String)\n   @ Base .\\error.jl:35\n [2] _install_conda(env::String, force::Bool)\n   @ Conda C:\\Users\\Tom Cummings\\.julia\\packages\\Conda\\zReqD\\src\\Conda.jl:274\n [3] _install_conda(env::String)\n   @ Conda C:\\Users\\Tom Cummings\\.julia\\packages\\Conda\\zReqD\\src\\Conda.jl:270\n [4] runconda(args::Cmd, env::String)\n   @ Conda C:\\Users\\Tom Cummings\\.julia\\packages\\Conda\\zReqD\\src\\Conda.jl:180\n [5] add(pkg::String, env::String; channel::String, satisfied_skip_solve::Bool, args::Cmd)\n   @ Conda C:\\Users\\Tom Cummings\\.julia\\packages\\Conda\\zReqD\\src\\Conda.jl:343\n [6] add\n   @ C:\\Users\\Tom Cummings\\.julia\\packages\\Conda\\zReqD\\src\\Conda.jl:326 [inlined]\n [7] top-level scope\n   @ C:\\Users\\Tom Cummings\\.julia\\packages\\PyCall\\1gn3u\\deps\\build.jl:79\n [8] include(fname::String)\n   @ Main .\\sysimg.jl:38\n [9] top-level scope\n   @ none:5\nin expression starting at C:\\Users\\Tom Cummings\\.julia\\packages\\PyCall\\1gn3u\\deps\\build.jl:43",
     "output_type": "error",
     "traceback": [
      "Error building `PyCall`: \n",
      "┌ Info: Using the Python distribution in the Conda package by default.\n",
      "└ To use a different Python version, set ENV[\"PYTHON\"]=\"pythoncommand\" and re-run Pkg.build(\"PyCall\").\n",
      "ERROR: LoadError: Conda.jl cannot be installed to its default location C:\\Users\\Tom Cummings\\.julia\\conda\\3\\x86_64\n",
      "as Miniconda does not support the installation to a directory with a space or a\n",
      "non-ASCII character on Windows. The work-around is to install Miniconda to a\n",
      "user-writable directory by setting the CONDA_JL_HOME environment variable. For\n",
      "example on Windows:\n",
      "\n",
      "ENV[\"CONDA_JL_HOME\"] = raw\"C:\\Conda-Julia\\3\"\n",
      "using Pkg\n",
      "Pkg.build(\"Conda\")\n",
      "\n",
      "The Julia session need to be restarted. More information is available at\n",
      "https://github.com/JuliaPy/Conda.jl.\n",
      "\n",
      "Stacktrace:\n",
      " [1] error(s::String)\n",
      "   @ Base .\\error.jl:35\n",
      " [2] _install_conda(env::String, force::Bool)\n",
      "   @ Conda C:\\Users\\Tom Cummings\\.julia\\packages\\Conda\\zReqD\\src\\Conda.jl:274\n",
      " [3] _install_conda(env::String)\n",
      "   @ Conda C:\\Users\\Tom Cummings\\.julia\\packages\\Conda\\zReqD\\src\\Conda.jl:270\n",
      " [4] runconda(args::Cmd, env::String)\n",
      "   @ Conda C:\\Users\\Tom Cummings\\.julia\\packages\\Conda\\zReqD\\src\\Conda.jl:180\n",
      " [5] add(pkg::String, env::String; channel::String, satisfied_skip_solve::Bool, args::Cmd)\n",
      "   @ Conda C:\\Users\\Tom Cummings\\.julia\\packages\\Conda\\zReqD\\src\\Conda.jl:343\n",
      " [6] add\n",
      "   @ C:\\Users\\Tom Cummings\\.julia\\packages\\Conda\\zReqD\\src\\Conda.jl:326 [inlined]\n",
      " [7] top-level scope\n",
      "   @ C:\\Users\\Tom Cummings\\.julia\\packages\\PyCall\\1gn3u\\deps\\build.jl:79\n",
      " [8] include(fname::String)\n",
      "   @ Main .\\sysimg.jl:38\n",
      " [9] top-level scope\n",
      "   @ none:5\n",
      "in expression starting at C:\\Users\\Tom Cummings\\.julia\\packages\\PyCall\\1gn3u\\deps\\build.jl:43\n",
      "\n",
      "Stacktrace:\n",
      "  [1] pkgerror(msg::String)\n",
      "    @ Pkg.Types C:\\Users\\Tom Cummings\\AppData\\Local\\Programs\\Julia-1.11.5\\share\\julia\\stdlib\\v1.11\\Pkg\\src\\Types.jl:68\n",
      "  [2] (::Pkg.Operations.var\"#67#74\"{Bool, Pkg.Types.Context, String, Pkg.Types.PackageSpec, String})()\n",
      "    @ Pkg.Operations C:\\Users\\Tom Cummings\\AppData\\Local\\Programs\\Julia-1.11.5\\share\\julia\\stdlib\\v1.11\\Pkg\\src\\Operations.jl:1195\n",
      "  [3] withenv(::Pkg.Operations.var\"#67#74\"{Bool, Pkg.Types.Context, String, Pkg.Types.PackageSpec, String}, ::Pair{String, String}, ::Vararg{Pair{String}})\n",
      "    @ Base .\\env.jl:265\n",
      "  [4] (::Pkg.Operations.var\"#118#123\"{String, Pkg.Types.EnvCache, Bool, Bool, Bool, Pkg.Operations.var\"#67#74\"{Bool, Pkg.Types.Context, String, Pkg.Types.PackageSpec, String}, Pkg.Types.PackageSpec})()\n",
      "    @ Pkg.Operations C:\\Users\\Tom Cummings\\AppData\\Local\\Programs\\Julia-1.11.5\\share\\julia\\stdlib\\v1.11\\Pkg\\src\\Operations.jl:1935\n",
      "  [5] with_temp_env(fn::Pkg.Operations.var\"#118#123\"{String, Pkg.Types.EnvCache, Bool, Bool, Bool, Pkg.Operations.var\"#67#74\"{Bool, Pkg.Types.Context, String, Pkg.Types.PackageSpec, String}, Pkg.Types.PackageSpec}, temp_env::String)\n",
      "    @ Pkg.Operations C:\\Users\\Tom Cummings\\AppData\\Local\\Programs\\Julia-1.11.5\\share\\julia\\stdlib\\v1.11\\Pkg\\src\\Operations.jl:1793\n",
      "  [6] (::Pkg.Operations.var\"#116#121\"{Dict{String, Any}, Bool, Bool, Bool, Pkg.Operations.var\"#67#74\"{Bool, Pkg.Types.Context, String, Pkg.Types.PackageSpec, String}, Pkg.Types.Context, Pkg.Types.PackageSpec, String, String})(tmp::String)\n",
      "    @ Pkg.Operations C:\\Users\\Tom Cummings\\AppData\\Local\\Programs\\Julia-1.11.5\\share\\julia\\stdlib\\v1.11\\Pkg\\src\\Operations.jl:1902\n",
      "  [7] mktempdir(fn::Pkg.Operations.var\"#116#121\"{Dict{String, Any}, Bool, Bool, Bool, Pkg.Operations.var\"#67#74\"{Bool, Pkg.Types.Context, String, Pkg.Types.PackageSpec, String}, Pkg.Types.Context, Pkg.Types.PackageSpec, String, String}, parent::String; prefix::String)\n",
      "    @ Base.Filesystem .\\file.jl:819\n",
      "  [8] mktempdir(fn::Function, parent::String)\n",
      "    @ Base.Filesystem .\\file.jl:815\n",
      "  [9] mktempdir\n",
      "    @ .\\file.jl:815 [inlined]\n",
      " [10] #sandbox#115\n",
      "    @ C:\\Users\\Tom Cummings\\AppData\\Local\\Programs\\Julia-1.11.5\\share\\julia\\stdlib\\v1.11\\Pkg\\src\\Operations.jl:1849 [inlined]\n",
      " [11] build_versions(ctx::Pkg.Types.Context, uuids::Set{Base.UUID}; verbose::Bool)\n",
      "    @ Pkg.Operations C:\\Users\\Tom Cummings\\AppData\\Local\\Programs\\Julia-1.11.5\\share\\julia\\stdlib\\v1.11\\Pkg\\src\\Operations.jl:1176\n",
      " [12] build_versions\n",
      "    @ C:\\Users\\Tom Cummings\\AppData\\Local\\Programs\\Julia-1.11.5\\share\\julia\\stdlib\\v1.11\\Pkg\\src\\Operations.jl:1094 [inlined]\n",
      " [13] add(ctx::Pkg.Types.Context, pkgs::Vector{Pkg.Types.PackageSpec}, new_git::Set{Base.UUID}; allow_autoprecomp::Bool, preserve::Pkg.Types.PreserveLevel, platform::Base.BinaryPlatforms.Platform, target::Symbol)\n",
      "    @ Pkg.Operations C:\\Users\\Tom Cummings\\AppData\\Local\\Programs\\Julia-1.11.5\\share\\julia\\stdlib\\v1.11\\Pkg\\src\\Operations.jl:1472\n",
      " [14] add\n",
      "    @ C:\\Users\\Tom Cummings\\AppData\\Local\\Programs\\Julia-1.11.5\\share\\julia\\stdlib\\v1.11\\Pkg\\src\\Operations.jl:1418 [inlined]\n",
      " [15] add(ctx::Pkg.Types.Context, pkgs::Vector{Pkg.Types.PackageSpec}; preserve::Pkg.Types.PreserveLevel, platform::Base.BinaryPlatforms.Platform, target::Symbol, allow_autoprecomp::Bool, kwargs::@Kwargs{io::IOContext{IO}})\n",
      "    @ Pkg.API C:\\Users\\Tom Cummings\\AppData\\Local\\Programs\\Julia-1.11.5\\share\\julia\\stdlib\\v1.11\\Pkg\\src\\API.jl:312\n",
      " [16] add(pkgs::Vector{Pkg.Types.PackageSpec}; io::IOContext{IO}, kwargs::@Kwargs{})\n",
      "    @ Pkg.API C:\\Users\\Tom Cummings\\AppData\\Local\\Programs\\Julia-1.11.5\\share\\julia\\stdlib\\v1.11\\Pkg\\src\\API.jl:159\n",
      " [17] add(pkgs::Vector{Pkg.Types.PackageSpec})\n",
      "    @ Pkg.API C:\\Users\\Tom Cummings\\AppData\\Local\\Programs\\Julia-1.11.5\\share\\julia\\stdlib\\v1.11\\Pkg\\src\\API.jl:148\n",
      " [18] add\n",
      "    @ C:\\Users\\Tom Cummings\\AppData\\Local\\Programs\\Julia-1.11.5\\share\\julia\\stdlib\\v1.11\\Pkg\\src\\API.jl:147 [inlined]\n",
      " [19] add(pkg::String)\n",
      "    @ Pkg.API C:\\Users\\Tom Cummings\\AppData\\Local\\Programs\\Julia-1.11.5\\share\\julia\\stdlib\\v1.11\\Pkg\\src\\API.jl:146\n",
      " [20] top-level scope\n",
      "    @ c:\\Users\\Tom Cummings\\OneDrive - University of Edinburgh\\Documents\\GitHub\\Introduction-to-Julia\\jl_notebook_cell_df34fa98e69747e1a8f8a730347b8e2f_X45sZmlsZQ==.jl:1"
     ]
    }
   ],
   "source": [
    "using Pkg; Pkg.add(\"PyCall\")\n",
    "using PyCall"
   ]
  },
  {
   "cell_type": "code",
   "execution_count": 23,
   "metadata": {},
   "outputs": [
    {
     "ename": "UndefVarError",
     "evalue": "UndefVarError: `pybuiltin` not defined in `Main`\nSuggestion: check for spelling errors or missing imports.",
     "output_type": "error",
     "traceback": [
      "UndefVarError: `pybuiltin` not defined in `Main`\n",
      "Suggestion: check for spelling errors or missing imports.\n",
      "\n",
      "Stacktrace:\n",
      " [1] top-level scope\n",
      "   @ c:\\Users\\Tom Cummings\\OneDrive - University of Edinburgh\\Documents\\GitHub\\Introduction-to-Julia\\jl_notebook_cell_df34fa98e69747e1a8f8a730347b8e2f_X46sZmlsZQ==.jl:2"
     ]
    }
   ],
   "source": [
    "# get the Python built-in \"sum\" function:\n",
    "pysum = pybuiltin(\"sum\")"
   ]
  },
  {
   "cell_type": "code",
   "execution_count": 24,
   "metadata": {},
   "outputs": [
    {
     "ename": "UndefVarError",
     "evalue": "UndefVarError: `pysum` not defined in `Main`\nSuggestion: check for spelling errors or missing imports.",
     "output_type": "error",
     "traceback": [
      "UndefVarError: `pysum` not defined in `Main`\n",
      "Suggestion: check for spelling errors or missing imports.\n",
      "\n",
      "Stacktrace:\n",
      " [1] top-level scope\n",
      "   @ c:\\Users\\Tom Cummings\\OneDrive - University of Edinburgh\\Documents\\GitHub\\Introduction-to-Julia\\jl_notebook_cell_df34fa98e69747e1a8f8a730347b8e2f_X50sZmlsZQ==.jl:1"
     ]
    }
   ],
   "source": [
    "pysum(a)"
   ]
  },
  {
   "cell_type": "code",
   "execution_count": 25,
   "metadata": {},
   "outputs": [
    {
     "ename": "UndefVarError",
     "evalue": "UndefVarError: `pysum` not defined in `Main`\nSuggestion: check for spelling errors or missing imports.",
     "output_type": "error",
     "traceback": [
      "UndefVarError: `pysum` not defined in `Main`\n",
      "Suggestion: check for spelling errors or missing imports.\n",
      "\n",
      "Stacktrace:\n",
      " [1] top-level scope\n",
      "   @ c:\\Users\\Tom Cummings\\OneDrive - University of Edinburgh\\Documents\\GitHub\\Introduction-to-Julia\\jl_notebook_cell_df34fa98e69747e1a8f8a730347b8e2f_X51sZmlsZQ==.jl:1"
     ]
    }
   ],
   "source": [
    "pysum(a) ≈ sum(a)"
   ]
  },
  {
   "cell_type": "code",
   "execution_count": 26,
   "metadata": {},
   "outputs": [
    {
     "ename": "UndefVarError",
     "evalue": "UndefVarError: `pysum` not defined in `Main`\nSuggestion: check for spelling errors or missing imports.",
     "output_type": "error",
     "traceback": [
      "UndefVarError: `pysum` not defined in `Main`\n",
      "Suggestion: check for spelling errors or missing imports.\n",
      "\n",
      "Stacktrace:\n",
      " [1] top-level scope\n",
      "   @ C:\\Users\\Tom Cummings\\.julia\\packages\\BenchmarkTools\\1i1mY\\src\\execution.jl:512"
     ]
    }
   ],
   "source": [
    "py_list_bench = @benchmark $pysum($a)"
   ]
  },
  {
   "cell_type": "code",
   "execution_count": 27,
   "metadata": {},
   "outputs": [
    {
     "ename": "UndefVarError",
     "evalue": "UndefVarError: `py_list_bench` not defined in `Main`\nSuggestion: check for spelling errors or missing imports.",
     "output_type": "error",
     "traceback": [
      "UndefVarError: `py_list_bench` not defined in `Main`\n",
      "Suggestion: check for spelling errors or missing imports.\n",
      "\n",
      "Stacktrace:\n",
      " [1] top-level scope\n",
      "   @ c:\\Users\\Tom Cummings\\OneDrive - University of Edinburgh\\Documents\\GitHub\\Introduction-to-Julia\\jl_notebook_cell_df34fa98e69747e1a8f8a730347b8e2f_X53sZmlsZQ==.jl:1"
     ]
    }
   ],
   "source": [
    "d[\"Python built-in\"] = minimum(py_list_bench.times) / 1e6\n",
    "d"
   ]
  },
  {
   "cell_type": "markdown",
   "metadata": {},
   "source": [
    "# 4. Python: `numpy` \n",
    "\n",
    "## Takes advantage of hardware \"SIMD\", but only works when it works.\n",
    "\n",
    "`numpy` is an optimized C library, callable from Python.\n",
    "It may be installed within Julia as follows:"
   ]
  },
  {
   "cell_type": "code",
   "execution_count": 28,
   "metadata": {},
   "outputs": [
    {
     "name": "stderr",
     "output_type": "stream",
     "text": [
      "\u001b[32m\u001b[1m   Resolving\u001b[22m\u001b[39m package versions...\n",
      "\u001b[32m\u001b[1m    Updating\u001b[22m\u001b[39m `C:\\Users\\Tom Cummings\\.julia\\environments\\v1.11\\Project.toml`\n",
      "  \u001b[90m[8f4d0f93] \u001b[39m\u001b[92m+ Conda v1.10.2\u001b[39m\n",
      "\u001b[32m\u001b[1m  No Changes\u001b[22m\u001b[39m to `C:\\Users\\Tom Cummings\\.julia\\environments\\v1.11\\Manifest.toml`\n",
      "\u001b[92m\u001b[1mPrecompiling\u001b[22m\u001b[39m project...\n",
      "         \u001b[91m  ✗ \u001b[39mPyCall\n",
      "  0 dependencies successfully precompiled in 5 seconds. 202 already precompiled.\n",
      "\n",
      "The following 1 direct dependency failed to precompile:\n",
      "\n",
      "PyCall \n",
      "\n",
      "Failed to precompile PyCall [438e738f-606a-5dbb-bf0a-cddfbfd45ab0] to \"C:\\\\Users\\\\Tom Cummings\\\\.julia\\\\compiled\\\\v1.11\\\\PyCall\\\\jl_E532.tmp\".\n",
      "\u001b[91m\u001b[1mERROR: \u001b[22m\u001b[39mLoadError: PyCall not properly installed. Please run Pkg.build(\"PyCall\")\n",
      "Stacktrace:\n",
      " [1] \u001b[0m\u001b[1merror\u001b[22m\u001b[0m\u001b[1m(\u001b[22m\u001b[90ms\u001b[39m::\u001b[0mString\u001b[0m\u001b[1m)\u001b[22m\n",
      "\u001b[90m   @\u001b[39m \u001b[90mBase\u001b[39m \u001b[90m.\\\u001b[39m\u001b[90m\u001b[4merror.jl:35\u001b[24m\u001b[39m\n",
      " [2] top-level scope\n",
      "\u001b[90m   @\u001b[39m \u001b[90mC:\\Users\\Tom Cummings\\.julia\\packages\\PyCall\\1gn3u\\src\\\u001b[39m\u001b[90m\u001b[4mstartup.jl:44\u001b[24m\u001b[39m\n",
      " [3] \u001b[0m\u001b[1minclude\u001b[22m\u001b[0m\u001b[1m(\u001b[22m\u001b[90mmod\u001b[39m::\u001b[0mModule, \u001b[90m_path\u001b[39m::\u001b[0mString\u001b[0m\u001b[1m)\u001b[22m\n",
      "\u001b[90m   @\u001b[39m \u001b[90mBase\u001b[39m \u001b[90m.\\\u001b[39m\u001b[90m\u001b[4mBase.jl:557\u001b[24m\u001b[39m\n",
      " [4] \u001b[0m\u001b[1minclude\u001b[22m\u001b[0m\u001b[1m(\u001b[22m\u001b[90mx\u001b[39m::\u001b[0mString\u001b[0m\u001b[1m)\u001b[22m\n",
      "\u001b[90m   @\u001b[39m \u001b[35mPyCall\u001b[39m \u001b[90mC:\\Users\\Tom Cummings\\.julia\\packages\\PyCall\\1gn3u\\src\\\u001b[39m\u001b[90m\u001b[4mPyCall.jl:1\u001b[24m\u001b[39m\n",
      " [5] top-level scope\n",
      "\u001b[90m   @\u001b[39m \u001b[90mC:\\Users\\Tom Cummings\\.julia\\packages\\PyCall\\1gn3u\\src\\\u001b[39m\u001b[90m\u001b[4mPyCall.jl:38\u001b[24m\u001b[39m\n",
      " [6] \u001b[0m\u001b[1minclude\u001b[22m\n",
      "\u001b[90m   @\u001b[39m \u001b[90m.\\\u001b[39m\u001b[90m\u001b[4mBase.jl:557\u001b[24m\u001b[39m\u001b[90m [inlined]\u001b[39m\n",
      " [7] \u001b[0m\u001b[1minclude_package_for_output\u001b[22m\u001b[0m\u001b[1m(\u001b[22m\u001b[90mpkg\u001b[39m::\u001b[0mBase.PkgId, \u001b[90minput\u001b[39m::\u001b[0mString, \u001b[90mdepot_path\u001b[39m::\u001b[0mVector\u001b[90m{String}\u001b[39m, \u001b[90mdl_load_path\u001b[39m::\u001b[0mVector\u001b[90m{String}\u001b[39m, \u001b[90mload_path\u001b[39m::\u001b[0mVector\u001b[90m{String}\u001b[39m, \u001b[90mconcrete_deps\u001b[39m::\u001b[0mVector\u001b[90m{Pair{Base.PkgId, UInt128}}\u001b[39m, \u001b[90msource\u001b[39m::\u001b[0mNothing\u001b[0m\u001b[1m)\u001b[22m\n",
      "\u001b[90m   @\u001b[39m \u001b[90mBase\u001b[39m \u001b[90m.\\\u001b[39m\u001b[90m\u001b[4mloading.jl:2881\u001b[24m\u001b[39m\n",
      " [8] top-level scope\n",
      "\u001b[90m   @\u001b[39m \u001b[90m\u001b[4mstdin:6\u001b[24m\u001b[39m\n",
      "in expression starting at C:\\Users\\Tom Cummings\\.julia\\packages\\PyCall\\1gn3u\\src\\startup.jl:41\n",
      "in expression starting at C:\\Users\\Tom Cummings\\.julia\\packages\\PyCall\\1gn3u\\src\\PyCall.jl:1\n",
      "in expression starting at stdin:"
     ]
    }
   ],
   "source": [
    "using Pkg; Pkg.add(\"Conda\")\n",
    "using Conda"
   ]
  },
  {
   "cell_type": "code",
   "execution_count": 29,
   "metadata": {},
   "outputs": [
    {
     "ename": "ErrorException",
     "evalue": "Conda.jl cannot be installed to its default location C:\\Users\\Tom Cummings\\.julia\\conda\\3\\x86_64\nas Miniconda does not support the installation to a directory with a space or a\nnon-ASCII character on Windows. The work-around is to install Miniconda to a\nuser-writable directory by setting the CONDA_JL_HOME environment variable. For\nexample on Windows:\n\nENV[\"CONDA_JL_HOME\"] = raw\"C:\\Conda-Julia\\3\"\nusing Pkg\nPkg.build(\"Conda\")\n\nThe Julia session need to be restarted. More information is available at\nhttps://github.com/JuliaPy/Conda.jl.\n",
     "output_type": "error",
     "traceback": [
      "Conda.jl cannot be installed to its default location C:\\Users\\Tom Cummings\\.julia\\conda\\3\\x86_64\n",
      "as Miniconda does not support the installation to a directory with a space or a\n",
      "non-ASCII character on Windows. The work-around is to install Miniconda to a\n",
      "user-writable directory by setting the CONDA_JL_HOME environment variable. For\n",
      "example on Windows:\n",
      "\n",
      "ENV[\"CONDA_JL_HOME\"] = raw\"C:\\Conda-Julia\\3\"\n",
      "using Pkg\n",
      "Pkg.build(\"Conda\")\n",
      "\n",
      "The Julia session need to be restarted. More information is available at\n",
      "https://github.com/JuliaPy/Conda.jl.\n",
      "\n",
      "\n",
      "Stacktrace:\n",
      " [1] error(s::String)\n",
      "   @ Base .\\error.jl:35\n",
      " [2] _install_conda(env::String, force::Bool)\n",
      "   @ Conda C:\\Users\\Tom Cummings\\.julia\\packages\\Conda\\zReqD\\src\\Conda.jl:274\n",
      " [3] _install_conda(env::String)\n",
      "   @ Conda C:\\Users\\Tom Cummings\\.julia\\packages\\Conda\\zReqD\\src\\Conda.jl:270\n",
      " [4] runconda(args::Cmd, env::String)\n",
      "   @ Conda C:\\Users\\Tom Cummings\\.julia\\packages\\Conda\\zReqD\\src\\Conda.jl:180\n",
      " [5] add(pkg::String, env::String; channel::String, satisfied_skip_solve::Bool, args::Cmd)\n",
      "   @ Conda C:\\Users\\Tom Cummings\\.julia\\packages\\Conda\\zReqD\\src\\Conda.jl:343\n",
      " [6] add\n",
      "   @ C:\\Users\\Tom Cummings\\.julia\\packages\\Conda\\zReqD\\src\\Conda.jl:326 [inlined]\n",
      " [7] add(pkg::String)\n",
      "   @ Conda C:\\Users\\Tom Cummings\\.julia\\packages\\Conda\\zReqD\\src\\Conda.jl:326\n",
      " [8] top-level scope\n",
      "   @ c:\\Users\\Tom Cummings\\OneDrive - University of Edinburgh\\Documents\\GitHub\\Introduction-to-Julia\\jl_notebook_cell_df34fa98e69747e1a8f8a730347b8e2f_X56sZmlsZQ==.jl:1"
     ]
    }
   ],
   "source": [
    "Conda.add(\"numpy\")"
   ]
  },
  {
   "cell_type": "code",
   "execution_count": 30,
   "metadata": {},
   "outputs": [
    {
     "ename": "UndefVarError",
     "evalue": "UndefVarError: `pyimport` not defined in `Main`\nSuggestion: check for spelling errors or missing imports.",
     "output_type": "error",
     "traceback": [
      "UndefVarError: `pyimport` not defined in `Main`\n",
      "Suggestion: check for spelling errors or missing imports.\n",
      "\n",
      "Stacktrace:\n",
      " [1] top-level scope\n",
      "   @ c:\\Users\\Tom Cummings\\OneDrive - University of Edinburgh\\Documents\\GitHub\\Introduction-to-Julia\\jl_notebook_cell_df34fa98e69747e1a8f8a730347b8e2f_X60sZmlsZQ==.jl:1"
     ]
    }
   ],
   "source": [
    "numpy_sum = pyimport(\"numpy\")[\"sum\"]\n",
    "\n",
    "py_numpy_bench = @benchmark $numpy_sum($a)"
   ]
  },
  {
   "cell_type": "code",
   "execution_count": 31,
   "metadata": {},
   "outputs": [
    {
     "ename": "UndefVarError",
     "evalue": "UndefVarError: `numpy_sum` not defined in `Main`\nSuggestion: check for spelling errors or missing imports.",
     "output_type": "error",
     "traceback": [
      "UndefVarError: `numpy_sum` not defined in `Main`\n",
      "Suggestion: check for spelling errors or missing imports.\n",
      "\n",
      "Stacktrace:\n",
      " [1] top-level scope\n",
      "   @ c:\\Users\\Tom Cummings\\OneDrive - University of Edinburgh\\Documents\\GitHub\\Introduction-to-Julia\\jl_notebook_cell_df34fa98e69747e1a8f8a730347b8e2f_X61sZmlsZQ==.jl:1"
     ]
    }
   ],
   "source": [
    "numpy_sum(a)"
   ]
  },
  {
   "cell_type": "code",
   "execution_count": 32,
   "metadata": {},
   "outputs": [
    {
     "ename": "UndefVarError",
     "evalue": "UndefVarError: `numpy_sum` not defined in `Main`\nSuggestion: check for spelling errors or missing imports.",
     "output_type": "error",
     "traceback": [
      "UndefVarError: `numpy_sum` not defined in `Main`\n",
      "Suggestion: check for spelling errors or missing imports.\n",
      "\n",
      "Stacktrace:\n",
      " [1] top-level scope\n",
      "   @ c:\\Users\\Tom Cummings\\OneDrive - University of Edinburgh\\Documents\\GitHub\\Introduction-to-Julia\\jl_notebook_cell_df34fa98e69747e1a8f8a730347b8e2f_X62sZmlsZQ==.jl:1"
     ]
    }
   ],
   "source": [
    "numpy_sum(a) ≈ sum(a)"
   ]
  },
  {
   "cell_type": "code",
   "execution_count": 33,
   "metadata": {
    "scrolled": true
   },
   "outputs": [
    {
     "ename": "UndefVarError",
     "evalue": "UndefVarError: `py_numpy_bench` not defined in `Main`\nSuggestion: check for spelling errors or missing imports.",
     "output_type": "error",
     "traceback": [
      "UndefVarError: `py_numpy_bench` not defined in `Main`\n",
      "Suggestion: check for spelling errors or missing imports.\n",
      "\n",
      "Stacktrace:\n",
      " [1] top-level scope\n",
      "   @ c:\\Users\\Tom Cummings\\OneDrive - University of Edinburgh\\Documents\\GitHub\\Introduction-to-Julia\\jl_notebook_cell_df34fa98e69747e1a8f8a730347b8e2f_X63sZmlsZQ==.jl:1"
     ]
    }
   ],
   "source": [
    "d[\"Python numpy\"] = minimum(py_numpy_bench.times) / 1e6\n",
    "d"
   ]
  },
  {
   "cell_type": "markdown",
   "metadata": {},
   "source": [
    "# 5. Python, hand-written "
   ]
  },
  {
   "cell_type": "code",
   "execution_count": 34,
   "metadata": {},
   "outputs": [
    {
     "ename": "LoadError",
     "evalue": "LoadError: UndefVarError: `@py_str` not defined in `Main`\nSuggestion: check for spelling errors or missing imports.\nin expression starting at c:\\Users\\Tom Cummings\\OneDrive - University of Edinburgh\\Documents\\GitHub\\Introduction-to-Julia\\jl_notebook_cell_df34fa98e69747e1a8f8a730347b8e2f_X65sZmlsZQ==.jl:1",
     "output_type": "error",
     "traceback": [
      "LoadError: UndefVarError: `@py_str` not defined in `Main`\n",
      "Suggestion: check for spelling errors or missing imports.\n",
      "in expression starting at c:\\Users\\Tom Cummings\\OneDrive - University of Edinburgh\\Documents\\GitHub\\Introduction-to-Julia\\jl_notebook_cell_df34fa98e69747e1a8f8a730347b8e2f_X65sZmlsZQ==.jl:1\n"
     ]
    }
   ],
   "source": [
    "py\"\"\"\n",
    "def py_sum(A):\n",
    "    s = 0.0\n",
    "    for a in A:\n",
    "        s += a\n",
    "    return s\n",
    "\"\"\"\n",
    "\n",
    "sum_py = py\"py_sum\""
   ]
  },
  {
   "cell_type": "code",
   "execution_count": 35,
   "metadata": {},
   "outputs": [
    {
     "ename": "UndefVarError",
     "evalue": "UndefVarError: `sum_py` not defined in `Main`\nSuggestion: check for spelling errors or missing imports.",
     "output_type": "error",
     "traceback": [
      "UndefVarError: `sum_py` not defined in `Main`\n",
      "Suggestion: check for spelling errors or missing imports.\n",
      "\n",
      "Stacktrace:\n",
      " [1] top-level scope\n",
      "   @ C:\\Users\\Tom Cummings\\.julia\\packages\\BenchmarkTools\\1i1mY\\src\\execution.jl:512"
     ]
    }
   ],
   "source": [
    "py_hand = @benchmark $sum_py($a)"
   ]
  },
  {
   "cell_type": "code",
   "execution_count": 36,
   "metadata": {},
   "outputs": [
    {
     "ename": "UndefVarError",
     "evalue": "UndefVarError: `sum_py` not defined in `Main`\nSuggestion: check for spelling errors or missing imports.",
     "output_type": "error",
     "traceback": [
      "UndefVarError: `sum_py` not defined in `Main`\n",
      "Suggestion: check for spelling errors or missing imports.\n",
      "\n",
      "Stacktrace:\n",
      " [1] top-level scope\n",
      "   @ c:\\Users\\Tom Cummings\\OneDrive - University of Edinburgh\\Documents\\GitHub\\Introduction-to-Julia\\jl_notebook_cell_df34fa98e69747e1a8f8a730347b8e2f_Y100sZmlsZQ==.jl:1"
     ]
    }
   ],
   "source": [
    "sum_py(a)"
   ]
  },
  {
   "cell_type": "code",
   "execution_count": 37,
   "metadata": {},
   "outputs": [
    {
     "ename": "UndefVarError",
     "evalue": "UndefVarError: `sum_py` not defined in `Main`\nSuggestion: check for spelling errors or missing imports.",
     "output_type": "error",
     "traceback": [
      "UndefVarError: `sum_py` not defined in `Main`\n",
      "Suggestion: check for spelling errors or missing imports.\n",
      "\n",
      "Stacktrace:\n",
      " [1] top-level scope\n",
      "   @ c:\\Users\\Tom Cummings\\OneDrive - University of Edinburgh\\Documents\\GitHub\\Introduction-to-Julia\\jl_notebook_cell_df34fa98e69747e1a8f8a730347b8e2f_Y101sZmlsZQ==.jl:1"
     ]
    }
   ],
   "source": [
    "sum_py(a) ≈ sum(a)"
   ]
  },
  {
   "cell_type": "code",
   "execution_count": 38,
   "metadata": {
    "scrolled": true
   },
   "outputs": [
    {
     "ename": "UndefVarError",
     "evalue": "UndefVarError: `py_hand` not defined in `Main`\nSuggestion: check for spelling errors or missing imports.",
     "output_type": "error",
     "traceback": [
      "UndefVarError: `py_hand` not defined in `Main`\n",
      "Suggestion: check for spelling errors or missing imports.\n",
      "\n",
      "Stacktrace:\n",
      " [1] top-level scope\n",
      "   @ c:\\Users\\Tom Cummings\\OneDrive - University of Edinburgh\\Documents\\GitHub\\Introduction-to-Julia\\jl_notebook_cell_df34fa98e69747e1a8f8a730347b8e2f_Y102sZmlsZQ==.jl:1"
     ]
    }
   ],
   "source": [
    "d[\"Python hand-written\"] = minimum(py_hand.times) / 1e6\n",
    "d"
   ]
  },
  {
   "cell_type": "markdown",
   "metadata": {},
   "source": [
    "# 6. Julia (built-in) \n",
    "\n",
    "## Written directly in Julia, not in C!"
   ]
  },
  {
   "cell_type": "code",
   "execution_count": 39,
   "metadata": {},
   "outputs": [
    {
     "data": {
      "text/html": [
       "sum(a::<b>AbstractArray</b>; <i>dims, kw...</i>) in Base at <a href=\"https://github.com/JuliaLang/julia/tree/760b2e5b7396f9cc0da5efce0cadd5d1974c4069/base/reducedim.jl#L982\" target=\"_blank\">reducedim.jl:982</a>"
      ],
      "text/plain": [
       "sum(\u001b[90ma\u001b[39m::\u001b[1mAbstractArray\u001b[22m; dims, kw...)\n",
       "\u001b[90m     @\u001b[39m \u001b[90mBase\u001b[39m \u001b[90m\u001b[4mreducedim.jl:982\u001b[24m\u001b[39m"
      ]
     },
     "metadata": {},
     "output_type": "display_data"
    }
   ],
   "source": [
    "@which sum(a)"
   ]
  },
  {
   "cell_type": "code",
   "execution_count": 40,
   "metadata": {},
   "outputs": [
    {
     "data": {
      "text/plain": [
       "BenchmarkTools.Trial: 575 samples with 1 evaluation per sample.\n",
       " Range \u001b[90m(\u001b[39m\u001b[36m\u001b[1mmin\u001b[22m\u001b[39m … \u001b[35mmax\u001b[39m\u001b[90m):  \u001b[39m\u001b[36m\u001b[1m5.607 ms\u001b[22m\u001b[39m … \u001b[35m25.103 ms\u001b[39m  \u001b[90m┊\u001b[39m GC \u001b[90m(\u001b[39mmin … max\u001b[90m): \u001b[39m0.00% … 0.00%\n",
       " Time  \u001b[90m(\u001b[39m\u001b[34m\u001b[1mmedian\u001b[22m\u001b[39m\u001b[90m):     \u001b[39m\u001b[34m\u001b[1m8.120 ms              \u001b[22m\u001b[39m\u001b[90m┊\u001b[39m GC \u001b[90m(\u001b[39mmedian\u001b[90m):    \u001b[39m0.00%\n",
       " Time  \u001b[90m(\u001b[39m\u001b[32m\u001b[1mmean\u001b[22m\u001b[39m ± \u001b[32mσ\u001b[39m\u001b[90m):   \u001b[39m\u001b[32m\u001b[1m8.642 ms\u001b[22m\u001b[39m ± \u001b[32m 2.385 ms\u001b[39m  \u001b[90m┊\u001b[39m GC \u001b[90m(\u001b[39mmean ± σ\u001b[90m):  \u001b[39m0.00% ± 0.00%\n",
       "\n",
       "  \u001b[39m \u001b[39m \u001b[39m \u001b[39m \u001b[39m▂\u001b[39m█\u001b[39m▄\u001b[39m▄\u001b[39m▄\u001b[39m \u001b[39m▂\u001b[34m▁\u001b[39m\u001b[39m▄\u001b[39m▂\u001b[32m▂\u001b[39m\u001b[39m \u001b[39m \u001b[39m \u001b[39m \u001b[39m \u001b[39m \u001b[39m \u001b[39m \u001b[39m \u001b[39m \u001b[39m \u001b[39m \u001b[39m \u001b[39m \u001b[39m \u001b[39m \u001b[39m \u001b[39m \u001b[39m \u001b[39m \u001b[39m \u001b[39m \u001b[39m \u001b[39m \u001b[39m \u001b[39m \u001b[39m \u001b[39m \u001b[39m \u001b[39m \u001b[39m \u001b[39m \u001b[39m \u001b[39m \u001b[39m \u001b[39m \u001b[39m \u001b[39m \u001b[39m \u001b[39m \u001b[39m \u001b[39m \u001b[39m \u001b[39m \u001b[39m \n",
       "  \u001b[39m▃\u001b[39m▄\u001b[39m▅\u001b[39m▅\u001b[39m█\u001b[39m█\u001b[39m█\u001b[39m█\u001b[39m█\u001b[39m█\u001b[39m█\u001b[34m█\u001b[39m\u001b[39m█\u001b[39m█\u001b[32m█\u001b[39m\u001b[39m█\u001b[39m▆\u001b[39m█\u001b[39m▆\u001b[39m▅\u001b[39m▅\u001b[39m▅\u001b[39m▄\u001b[39m▄\u001b[39m▃\u001b[39m▃\u001b[39m▃\u001b[39m▁\u001b[39m▃\u001b[39m▃\u001b[39m▃\u001b[39m▁\u001b[39m▄\u001b[39m▂\u001b[39m▂\u001b[39m▃\u001b[39m▁\u001b[39m▃\u001b[39m▁\u001b[39m▂\u001b[39m▃\u001b[39m▂\u001b[39m▃\u001b[39m▂\u001b[39m▃\u001b[39m▂\u001b[39m▃\u001b[39m▂\u001b[39m▃\u001b[39m▁\u001b[39m▃\u001b[39m▁\u001b[39m▁\u001b[39m▂\u001b[39m▁\u001b[39m▁\u001b[39m▁\u001b[39m▂\u001b[39m \u001b[39m▃\n",
       "  5.61 ms\u001b[90m        Histogram: frequency by time\u001b[39m        18.3 ms \u001b[0m\u001b[1m<\u001b[22m\n",
       "\n",
       " Memory estimate\u001b[90m: \u001b[39m\u001b[33m0 bytes\u001b[39m, allocs estimate\u001b[90m: \u001b[39m\u001b[33m0\u001b[39m."
      ]
     },
     "metadata": {},
     "output_type": "display_data"
    }
   ],
   "source": [
    "j_bench = @benchmark sum($a)"
   ]
  },
  {
   "cell_type": "code",
   "execution_count": 41,
   "metadata": {
    "scrolled": true
   },
   "outputs": [
    {
     "data": {
      "text/plain": [
       "Dict{Any, Any} with 1 entry:\n",
       "  \"Julia built-in\" => 5.6075"
      ]
     },
     "metadata": {},
     "output_type": "display_data"
    }
   ],
   "source": [
    "d[\"Julia built-in\"] = minimum(j_bench.times) / 1e6\n",
    "d"
   ]
  },
  {
   "cell_type": "markdown",
   "metadata": {},
   "source": [
    "# 7. Julia (hand-written) "
   ]
  },
  {
   "cell_type": "code",
   "execution_count": 42,
   "metadata": {
    "scrolled": true
   },
   "outputs": [
    {
     "data": {
      "text/plain": [
       "mysum (generic function with 1 method)"
      ]
     },
     "metadata": {},
     "output_type": "display_data"
    }
   ],
   "source": [
    "function mysum(A)   \n",
    "    s = 0.0 # s = zero(eltype(a))\n",
    "    for a in A\n",
    "        s += a\n",
    "    end\n",
    "    s\n",
    "end"
   ]
  },
  {
   "cell_type": "code",
   "execution_count": 43,
   "metadata": {},
   "outputs": [
    {
     "data": {
      "text/plain": [
       "BenchmarkTools.Trial: 257 samples with 1 evaluation per sample.\n",
       " Range \u001b[90m(\u001b[39m\u001b[36m\u001b[1mmin\u001b[22m\u001b[39m … \u001b[35mmax\u001b[39m\u001b[90m):  \u001b[39m\u001b[36m\u001b[1m11.429 ms\u001b[22m\u001b[39m … \u001b[35m34.044 ms\u001b[39m  \u001b[90m┊\u001b[39m GC \u001b[90m(\u001b[39mmin … max\u001b[90m): \u001b[39m0.00% … 0.00%\n",
       " Time  \u001b[90m(\u001b[39m\u001b[34m\u001b[1mmedian\u001b[22m\u001b[39m\u001b[90m):     \u001b[39m\u001b[34m\u001b[1m19.681 ms              \u001b[22m\u001b[39m\u001b[90m┊\u001b[39m GC \u001b[90m(\u001b[39mmedian\u001b[90m):    \u001b[39m0.00%\n",
       " Time  \u001b[90m(\u001b[39m\u001b[32m\u001b[1mmean\u001b[22m\u001b[39m ± \u001b[32mσ\u001b[39m\u001b[90m):   \u001b[39m\u001b[32m\u001b[1m19.419 ms\u001b[22m\u001b[39m ± \u001b[32m 5.465 ms\u001b[39m  \u001b[90m┊\u001b[39m GC \u001b[90m(\u001b[39mmean ± σ\u001b[90m):  \u001b[39m0.00% ± 0.00%\n",
       "\n",
       "  \u001b[39m \u001b[39m \u001b[39m \u001b[39m \u001b[39m \u001b[39m \u001b[39m▄\u001b[39m█\u001b[39m▂\u001b[39m▄\u001b[39m▂\u001b[39m \u001b[39m \u001b[39m \u001b[39m \u001b[39m \u001b[39m \u001b[39m \u001b[39m \u001b[39m \u001b[39m \u001b[39m \u001b[32m \u001b[39m\u001b[34m \u001b[39m\u001b[39m \u001b[39m \u001b[39m \u001b[39m \u001b[39m \u001b[39m \u001b[39m▃\u001b[39m▂\u001b[39m \u001b[39m▁\u001b[39m \u001b[39m \u001b[39m \u001b[39m \u001b[39m \u001b[39m \u001b[39m \u001b[39m \u001b[39m \u001b[39m \u001b[39m \u001b[39m \u001b[39m \u001b[39m \u001b[39m \u001b[39m \u001b[39m \u001b[39m \u001b[39m \u001b[39m \u001b[39m \u001b[39m \u001b[39m \u001b[39m \u001b[39m \u001b[39m \u001b[39m \n",
       "  \u001b[39m▃\u001b[39m▄\u001b[39m▆\u001b[39m▆\u001b[39m█\u001b[39m█\u001b[39m█\u001b[39m█\u001b[39m█\u001b[39m█\u001b[39m█\u001b[39m▃\u001b[39m▃\u001b[39m▃\u001b[39m▆\u001b[39m▃\u001b[39m▁\u001b[39m▁\u001b[39m▄\u001b[39m▄\u001b[39m▄\u001b[39m▃\u001b[32m▅\u001b[39m\u001b[34m▅\u001b[39m\u001b[39m▆\u001b[39m▃\u001b[39m▆\u001b[39m▆\u001b[39m▇\u001b[39m█\u001b[39m█\u001b[39m█\u001b[39m▄\u001b[39m█\u001b[39m█\u001b[39m▄\u001b[39m▆\u001b[39m▆\u001b[39m▃\u001b[39m▅\u001b[39m▄\u001b[39m▃\u001b[39m▃\u001b[39m▃\u001b[39m▃\u001b[39m▃\u001b[39m▃\u001b[39m▁\u001b[39m▁\u001b[39m▁\u001b[39m▃\u001b[39m▁\u001b[39m▁\u001b[39m▁\u001b[39m▁\u001b[39m▁\u001b[39m▃\u001b[39m▆\u001b[39m▃\u001b[39m \u001b[39m▃\n",
       "  11.4 ms\u001b[90m         Histogram: frequency by time\u001b[39m        32.8 ms \u001b[0m\u001b[1m<\u001b[22m\n",
       "\n",
       " Memory estimate\u001b[90m: \u001b[39m\u001b[33m0 bytes\u001b[39m, allocs estimate\u001b[90m: \u001b[39m\u001b[33m0\u001b[39m."
      ]
     },
     "metadata": {},
     "output_type": "display_data"
    }
   ],
   "source": [
    "j_bench_hand = @benchmark mysum($a)"
   ]
  },
  {
   "cell_type": "code",
   "execution_count": 44,
   "metadata": {
    "scrolled": true
   },
   "outputs": [
    {
     "data": {
      "text/plain": [
       "Dict{Any, Any} with 2 entries:\n",
       "  \"Julia hand-written\" => 11.4293\n",
       "  \"Julia built-in\"     => 5.6075"
      ]
     },
     "metadata": {},
     "output_type": "display_data"
    }
   ],
   "source": [
    "d[\"Julia hand-written\"] = minimum(j_bench_hand.times) / 1e6\n",
    "d"
   ]
  },
  {
   "cell_type": "markdown",
   "metadata": {},
   "source": [
    "# 8. Julia (hand-written w. simd) "
   ]
  },
  {
   "cell_type": "code",
   "execution_count": 45,
   "metadata": {},
   "outputs": [
    {
     "data": {
      "text/plain": [
       "mysum_simd (generic function with 1 method)"
      ]
     },
     "metadata": {},
     "output_type": "display_data"
    }
   ],
   "source": [
    "function mysum_simd(A)   \n",
    "    s = 0.0 # s = zero(eltype(A))\n",
    "    @simd for a in A\n",
    "        s += a\n",
    "    end\n",
    "    s\n",
    "end"
   ]
  },
  {
   "cell_type": "code",
   "execution_count": 46,
   "metadata": {},
   "outputs": [
    {
     "data": {
      "text/plain": [
       "BenchmarkTools.Trial: 594 samples with 1 evaluation per sample.\n",
       " Range \u001b[90m(\u001b[39m\u001b[36m\u001b[1mmin\u001b[22m\u001b[39m … \u001b[35mmax\u001b[39m\u001b[90m):  \u001b[39m\u001b[36m\u001b[1m6.829 ms\u001b[22m\u001b[39m … \u001b[35m 12.070 ms\u001b[39m  \u001b[90m┊\u001b[39m GC \u001b[90m(\u001b[39mmin … max\u001b[90m): \u001b[39m0.00% … 0.00%\n",
       " Time  \u001b[90m(\u001b[39m\u001b[34m\u001b[1mmedian\u001b[22m\u001b[39m\u001b[90m):     \u001b[39m\u001b[34m\u001b[1m8.373 ms               \u001b[22m\u001b[39m\u001b[90m┊\u001b[39m GC \u001b[90m(\u001b[39mmedian\u001b[90m):    \u001b[39m0.00%\n",
       " Time  \u001b[90m(\u001b[39m\u001b[32m\u001b[1mmean\u001b[22m\u001b[39m ± \u001b[32mσ\u001b[39m\u001b[90m):   \u001b[39m\u001b[32m\u001b[1m8.393 ms\u001b[22m\u001b[39m ± \u001b[32m903.272 μs\u001b[39m  \u001b[90m┊\u001b[39m GC \u001b[90m(\u001b[39mmean ± σ\u001b[90m):  \u001b[39m0.00% ± 0.00%\n",
       "\n",
       "  \u001b[39m \u001b[39m \u001b[39m▃\u001b[39m \u001b[39m \u001b[39m▁\u001b[39m▂\u001b[39m \u001b[39m \u001b[39m▅\u001b[39m \u001b[39m▂\u001b[39m▄\u001b[39m▁\u001b[39m \u001b[39m▂\u001b[39m \u001b[39m▃\u001b[39m \u001b[39m▁\u001b[39m \u001b[39m▂\u001b[39m▆\u001b[39m▃\u001b[39m▃\u001b[34m█\u001b[39m\u001b[39m▂\u001b[39m▃\u001b[39m▂\u001b[39m▆\u001b[39m▂\u001b[39m▂\u001b[39m \u001b[39m \u001b[39m▁\u001b[39m \u001b[39m \u001b[39m \u001b[39m▂\u001b[39m \u001b[39m▁\u001b[39m \u001b[39m \u001b[39m \u001b[39m \u001b[39m \u001b[39m \u001b[39m \u001b[39m \u001b[39m \u001b[39m \u001b[39m \u001b[39m \u001b[39m \u001b[39m \u001b[39m \u001b[39m \u001b[39m \u001b[39m \u001b[39m \u001b[39m \n",
       "  \u001b[39m▅\u001b[39m▆\u001b[39m█\u001b[39m▇\u001b[39m▇\u001b[39m█\u001b[39m█\u001b[39m█\u001b[39m█\u001b[39m█\u001b[39m█\u001b[39m█\u001b[39m█\u001b[39m█\u001b[39m▆\u001b[39m█\u001b[39m█\u001b[39m█\u001b[39m█\u001b[39m█\u001b[39m█\u001b[39m█\u001b[39m█\u001b[39m█\u001b[39m█\u001b[34m█\u001b[39m\u001b[39m█\u001b[39m█\u001b[39m█\u001b[39m█\u001b[39m█\u001b[39m█\u001b[39m█\u001b[39m█\u001b[39m█\u001b[39m█\u001b[39m▇\u001b[39m▅\u001b[39m█\u001b[39m▇\u001b[39m█\u001b[39m▇\u001b[39m▇\u001b[39m▇\u001b[39m▇\u001b[39m▆\u001b[39m▄\u001b[39m▅\u001b[39m▄\u001b[39m▅\u001b[39m▆\u001b[39m▃\u001b[39m▃\u001b[39m▄\u001b[39m▃\u001b[39m▃\u001b[39m▁\u001b[39m▃\u001b[39m▃\u001b[39m \u001b[39m▅\n",
       "  6.83 ms\u001b[90m         Histogram: frequency by time\u001b[39m        10.5 ms \u001b[0m\u001b[1m<\u001b[22m\n",
       "\n",
       " Memory estimate\u001b[90m: \u001b[39m\u001b[33m0 bytes\u001b[39m, allocs estimate\u001b[90m: \u001b[39m\u001b[33m0\u001b[39m."
      ]
     },
     "metadata": {},
     "output_type": "display_data"
    }
   ],
   "source": [
    "j_bench_hand_simd = @benchmark mysum_simd($a)"
   ]
  },
  {
   "cell_type": "code",
   "execution_count": 47,
   "metadata": {},
   "outputs": [
    {
     "data": {
      "text/plain": [
       "5.001462617496238e6"
      ]
     },
     "metadata": {},
     "output_type": "display_data"
    }
   ],
   "source": [
    "mysum_simd(a)"
   ]
  },
  {
   "cell_type": "code",
   "execution_count": 48,
   "metadata": {
    "scrolled": true
   },
   "outputs": [
    {
     "data": {
      "text/plain": [
       "Dict{Any, Any} with 3 entries:\n",
       "  \"Julia hand-written simd\" => 6.8288\n",
       "  \"Julia hand-written\"      => 11.4293\n",
       "  \"Julia built-in\"          => 5.6075"
      ]
     },
     "metadata": {},
     "output_type": "display_data"
    }
   ],
   "source": [
    "d[\"Julia hand-written simd\"] = minimum(j_bench_hand_simd.times) / 1e6\n",
    "d"
   ]
  },
  {
   "cell_type": "markdown",
   "metadata": {},
   "source": [
    "# Summary"
   ]
  },
  {
   "cell_type": "code",
   "execution_count": 49,
   "metadata": {
    "scrolled": true
   },
   "outputs": [
    {
     "name": "stdout",
     "output_type": "stream",
     "text": [
      "Julia built-in..............5.6\n",
      "Julia hand-written simd.....6.8\n",
      "Julia hand-written.........11.4\n"
     ]
    }
   ],
   "source": [
    "for (key, value) in sort(collect(d), by=last)\n",
    "    println(rpad(key, 25, \".\"), lpad(round(value; digits=1), 6, \".\"))\n",
    "end"
   ]
  }
 ],
 "metadata": {
  "anaconda-cloud": {},
  "kernelspec": {
   "display_name": "Julia 1.11.5",
   "language": "julia",
   "name": "julia-1.11"
  },
  "language_info": {
   "file_extension": ".jl",
   "mimetype": "application/julia",
   "name": "julia",
   "version": "1.11.5"
  },
  "toc": {
   "colors": {
    "hover_highlight": "#DAA520",
    "running_highlight": "#FF0000",
    "selected_highlight": "#FFD700"
   },
   "moveMenuLeft": true,
   "nav_menu": {
    "height": "212px",
    "width": "252px"
   },
   "navigate_menu": true,
   "number_sections": true,
   "sideBar": true,
   "threshold": "2",
   "toc_cell": false,
   "toc_section_display": "block",
   "toc_window_display": false
  }
 },
 "nbformat": 4,
 "nbformat_minor": 4
}
